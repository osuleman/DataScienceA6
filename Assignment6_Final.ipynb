{
 "cells": [
  {
   "cell_type": "markdown",
   "metadata": {},
   "source": [
    "# Crime Analytics: Visualization of Incident Reports"
   ]
  },
  {
   "cell_type": "markdown",
   "metadata": {},
   "source": [
    "## Objective:\n",
    "This document analyzes the Summer 2014 San Francisco Police Incident Report Dataset.  Specifically, this document examines how police incident reports vary by time of day. This document aims to visualize the data to better understand how and why the incident frequency varies by time of day."
   ]
  },
  {
   "cell_type": "markdown",
   "metadata": {},
   "source": [
    "## Pre-Processing Data:"
   ]
  },
  {
   "cell_type": "markdown",
   "metadata": {},
   "source": [
    "### Importing Data:\n",
    "The data is imported as a pandas dataframe under the variable name sanFran.  The first 4 lines of data are printed out below:"
   ]
  },
  {
   "cell_type": "code",
   "execution_count": 1,
   "metadata": {
    "collapsed": false
   },
   "outputs": [
    {
     "name": "stdout",
     "output_type": "stream",
     "text": [
      "   IncidntNum       Category                      Descript DayOfWeek  \\\n",
      "0   140734311          ARSON            ARSON OF A VEHICLE    Sunday   \n",
      "1   140736317   NON-CRIMINAL                 LOST PROPERTY    Sunday   \n",
      "2   146177923  LARCENY/THEFT  GRAND THEFT FROM LOCKED AUTO    Sunday   \n",
      "3   146177531  LARCENY/THEFT  GRAND THEFT FROM LOCKED AUTO    Sunday   \n",
      "4   140734220   NON-CRIMINAL                FOUND PROPERTY    Sunday   \n",
      "\n",
      "         Date   Time PdDistrict Resolution                    Address  \\\n",
      "0  08/31/2014  23:50    BAYVIEW       NONE  LOOMIS ST / INDUSTRIAL ST   \n",
      "1  08/31/2014  23:45    MISSION       NONE     400 Block of CASTRO ST   \n",
      "2  08/31/2014  23:30   SOUTHERN       NONE   1000 Block of MISSION ST   \n",
      "3  08/31/2014  23:30   RICHMOND       NONE        FULTON ST / 26TH AV   \n",
      "4  08/31/2014  23:23   RICHMOND       NONE   800 Block of LA PLAYA ST   \n",
      "\n",
      "            X          Y                               Location  \\\n",
      "0 -122.405647  37.738322  (37.7383221869053, -122.405646994567)   \n",
      "1 -122.435012  37.761768  (37.7617677182954, -122.435012093789)   \n",
      "2 -122.409795  37.780036  (37.7800356268394, -122.409795194505)   \n",
      "3 -122.485263  37.772518  (37.7725176473142, -122.485262988324)   \n",
      "4 -122.509895  37.772313  (37.7723131976814, -122.509895418239)   \n",
      "\n",
      "             PdId  \n",
      "0  14073431126031  \n",
      "1  14073631771000  \n",
      "2  14617792306244  \n",
      "3  14617753106244  \n",
      "4  14073422072000  \n"
     ]
    }
   ],
   "source": [
    "import pandas\n",
    "import numpy as np\n",
    "sanFran = pandas.read_csv(\"sanfrancisco_incidents_summer_2014.csv\")\n",
    "print(sanFran.head())"
   ]
  },
  {
   "cell_type": "markdown",
   "metadata": {},
   "source": [
    "### Parsing Date and Time:\n",
    "The date and time are parsed into a datetime object.  A new column is added to the dataset, 'Hour'. This new column will allow the data to be grouped by time of day.  Observe the new 'Hour' column below:"
   ]
  },
  {
   "cell_type": "code",
   "execution_count": 2,
   "metadata": {
    "collapsed": false
   },
   "outputs": [
    {
     "name": "stdout",
     "output_type": "stream",
     "text": [
      "0        23\n",
      "1        23\n",
      "2        23\n",
      "3        23\n",
      "4        23\n",
      "5        23\n",
      "6        23\n",
      "7        23\n",
      "8        23\n",
      "9        23\n",
      "10       23\n",
      "11       23\n",
      "12       23\n",
      "13       23\n",
      "14       23\n",
      "15       22\n",
      "16       22\n",
      "17       22\n",
      "18       22\n",
      "19       22\n",
      "20       22\n",
      "21       22\n",
      "22       22\n",
      "23       22\n",
      "24       22\n",
      "25       22\n",
      "26       22\n",
      "27       22\n",
      "28       22\n",
      "29       22\n",
      "         ..\n",
      "28963     1\n",
      "28964     1\n",
      "28965     0\n",
      "28966     0\n",
      "28967     0\n",
      "28968     0\n",
      "28969     0\n",
      "28970     0\n",
      "28971     0\n",
      "28972     0\n",
      "28973     0\n",
      "28974     0\n",
      "28975     0\n",
      "28976     0\n",
      "28977     0\n",
      "28978     0\n",
      "28979     0\n",
      "28980     0\n",
      "28981     0\n",
      "28982     0\n",
      "28983     0\n",
      "28984     0\n",
      "28985     0\n",
      "28986     0\n",
      "28987     0\n",
      "28988     0\n",
      "28989     0\n",
      "28990     0\n",
      "28991     0\n",
      "28992     0\n",
      "Name: Hour, dtype: int64\n"
     ]
    }
   ],
   "source": [
    "from datetime import datetime\n",
    "# Combine time and date\n",
    "sanFran['dateTime'] = sanFran['Date'] + ' ' + sanFran['Time']\n",
    "# Parse date time string into datetime object\n",
    "sanFran['dateTime'] = sanFran['dateTime'].apply(lambda x: datetime.strptime(str(x),'%m/%d/%Y %H:%M'))\n",
    "# Create a new 'Hour' Column\n",
    "sanFran['Hour'] = sanFran['dateTime'].apply(lambda x: x.hour)\n",
    "print(sanFran['Hour'])"
   ]
  },
  {
   "cell_type": "markdown",
   "metadata": {},
   "source": [
    "### Changing Schema and Initializing a New Table:\n",
    "The objective is to visualize how the police incident reports vary by time of day. Not just total incidents, but also how certain categories of incidents vary by time of day.  This requires a new schema that will allow easy access to this information.  A 2D array, HourCat, will store incident frequency for a given time of day and incident category.  This array is initialized and the first 5 rows are shown below:"
   ]
  },
  {
   "cell_type": "code",
   "execution_count": 3,
   "metadata": {
    "collapsed": false
   },
   "outputs": [
    {
     "name": "stdout",
     "output_type": "stream",
     "text": [
      "   ARSON  NON-CRIMINAL  LARCENY/THEFT  DRUG/NARCOTIC  \\\n",
      "0      0             0              0              0   \n",
      "1      0             0              0              0   \n",
      "2      0             0              0              0   \n",
      "3      0             0              0              0   \n",
      "4      0             0              0              0   \n",
      "\n",
      "   DRIVING UNDER THE INFLUENCE  OTHER OFFENSES  TRESPASS  VEHICLE THEFT  \\\n",
      "0                            0               0         0              0   \n",
      "1                            0               0         0              0   \n",
      "2                            0               0         0              0   \n",
      "3                            0               0         0              0   \n",
      "4                            0               0         0              0   \n",
      "\n",
      "   ASSAULT  FRAUD   ...     EMBEZZLEMENT  BURGLARY  SUICIDE  VANDALISM  \\\n",
      "0        0      0   ...                0         0        0          0   \n",
      "1        0      0   ...                0         0        0          0   \n",
      "2        0      0   ...                0         0        0          0   \n",
      "3        0      0   ...                0         0        0          0   \n",
      "4        0      0   ...                0         0        0          0   \n",
      "\n",
      "   STOLEN PROPERTY  RUNAWAY  GAMBLING  EXTORTION  PORNOGRAPHY/OBSCENE MAT  \\\n",
      "0                0        0         0          0                        0   \n",
      "1                0        0         0          0                        0   \n",
      "2                0        0         0          0                        0   \n",
      "3                0        0         0          0                        0   \n",
      "4                0        0         0          0                        0   \n",
      "\n",
      "   BRIBERY  \n",
      "0        0  \n",
      "1        0  \n",
      "2        0  \n",
      "3        0  \n",
      "4        0  \n",
      "\n",
      "[5 rows x 34 columns]\n"
     ]
    }
   ],
   "source": [
    "# Initialize hour vs category schema\n",
    "\n",
    "# Create a list of all hours\n",
    "hour = sanFran['Hour'].unique()\n",
    "# Sort list ascending = true\n",
    "hour = np.sort(hour)\n",
    "\n",
    "# Create a list of all Categories\n",
    "category = sanFran['Category'].unique()\n",
    "\n",
    "# Create a new array with hour as rows, category as columns and initialize as 0\n",
    "HourCat = pandas.DataFrame(index=hour, columns=category).fillna(0)\n",
    "\n",
    "print(HourCat.head())"
   ]
  },
  {
   "cell_type": "markdown",
   "metadata": {},
   "source": [
    "### Grouping the Data and Populating New Table:\n",
    "The incident frequency for a given time of day and incident category must be determined and entered into the HourCat array.  This is done by grouping by time of day, using hour, and then sub-grouping the result by incident category.  For each sub-group, the incident frequency will be counted and stored in the HourCat array.  The first 4 lines of the populated HourCat array are shown below:"
   ]
  },
  {
   "cell_type": "code",
   "execution_count": 4,
   "metadata": {
    "collapsed": false
   },
   "outputs": [
    {
     "name": "stdout",
     "output_type": "stream",
     "text": [
      "   ARSON  NON-CRIMINAL  LARCENY/THEFT  DRUG/NARCOTIC  \\\n",
      "0      5           144            354             56   \n",
      "1      2            72            230             30   \n",
      "2      1            59            143             31   \n",
      "3      5            36             88             24   \n",
      "4      4            21             65              3   \n",
      "\n",
      "   DRIVING UNDER THE INFLUENCE  OTHER OFFENSES  TRESPASS  VEHICLE THEFT  \\\n",
      "0                            9             262         8             66   \n",
      "1                           17             106         7             51   \n",
      "2                            8              89        12             36   \n",
      "3                            5              54         9             24   \n",
      "4                            3              23         5             19   \n",
      "\n",
      "   ASSAULT  FRAUD   ...     EMBEZZLEMENT  BURGLARY  SUICIDE  VANDALISM  \\\n",
      "0      169     25   ...                0         0        1          1   \n",
      "1      115     10   ...                0         1        1          0   \n",
      "2      126     10   ...                0         0        2          0   \n",
      "3       68      2   ...                0         2        0          1   \n",
      "4       39      0   ...                0         0        0          1   \n",
      "\n",
      "   STOLEN PROPERTY  RUNAWAY  GAMBLING  EXTORTION  PORNOGRAPHY/OBSCENE MAT  \\\n",
      "0                0        4         0          0                        0   \n",
      "1                3        2         0          1                        0   \n",
      "2                0        2         0          1                        0   \n",
      "3                0        1         0          0                        0   \n",
      "4                0        1         0          0                        0   \n",
      "\n",
      "   BRIBERY  \n",
      "0        0  \n",
      "1        1  \n",
      "2        0  \n",
      "3        0  \n",
      "4        0  \n",
      "\n",
      "[5 rows x 34 columns]\n"
     ]
    }
   ],
   "source": [
    "# Group data by 'hour' \n",
    "groupedHour = sanFran.groupby(by='Hour')\n",
    "# loop through each hour sub-group\n",
    "for h,groupHour in groupedHour:\n",
    "    # Group sub-group by 'Category'\n",
    "    groupedHourCat = groupHour.groupby(by = 'Category')\n",
    "    # loop through each category sub-sub-group\n",
    "    for cat, groupHourCat in groupedHourCat:\n",
    "        # count occurances in sub-sub-group and save in HourCat array\n",
    "        HourCat.loc[h,cat] = len(groupHourCat)\n",
    "\n",
    "print(HourCat.head())"
   ]
  },
  {
   "cell_type": "markdown",
   "metadata": {},
   "source": [
    "### Sub-Group Summary Statistics:\n",
    "Several statistics of interest were added to the HourCat array.  These summary statistics are shown below:"
   ]
  },
  {
   "cell_type": "code",
   "execution_count": 5,
   "metadata": {
    "collapsed": false
   },
   "outputs": [
    {
     "name": "stdout",
     "output_type": "stream",
     "text": [
      "             ARSON  NON-CRIMINAL  LARCENY/THEFT  DRUG/NARCOTIC  \\\n",
      "23        5.000000    107.000000     462.000000      58.000000   \n",
      "total    63.000000   3023.000000    9466.000000    1345.000000   \n",
      "mean      2.625000    125.958333     394.416667      56.041667   \n",
      "std       2.355613     59.457313     224.043070      33.503380   \n",
      "stdNorm   0.897376      0.472040       0.568037       0.597830   \n",
      "\n",
      "         DRIVING UNDER THE INFLUENCE  OTHER OFFENSES    TRESPASS  \\\n",
      "23                         11.000000      178.000000   19.000000   \n",
      "total                     100.000000     3567.000000  281.000000   \n",
      "mean                        4.166667      148.625000   11.708333   \n",
      "std                         4.449393       67.976219    4.768366   \n",
      "stdNorm                     1.067854        0.457367    0.407263   \n",
      "\n",
      "         VEHICLE THEFT      ASSAULT       FRAUD      ...       BURGLARY  \\\n",
      "23          137.000000   146.000000    9.000000      ...       0.000000   \n",
      "total      1966.000000  2882.000000  242.000000      ...       6.000000   \n",
      "mean         81.916667   120.083333   10.083333      ...       0.250000   \n",
      "std          50.613554    41.410896    7.216627      ...       0.531610   \n",
      "stdNorm       0.617866     0.344851    0.715699      ...       2.126438   \n",
      "\n",
      "           SUICIDE  VANDALISM  STOLEN PROPERTY    RUNAWAY  GAMBLING  \\\n",
      "23        0.000000   1.000000         1.000000   3.000000  0.000000   \n",
      "total    14.000000  17.000000         8.000000  61.000000  1.000000   \n",
      "mean      0.583333   0.708333         0.333333   2.541667  0.041667   \n",
      "std       0.775532   0.550033         0.701964   1.841058  0.204124   \n",
      "stdNorm   1.329483   0.776517         2.105892   0.724350  4.898979   \n",
      "\n",
      "         EXTORTION  PORNOGRAPHY/OBSCENE MAT   BRIBERY    Hour Total  \n",
      "23        0.000000                 0.000000  0.000000   1378.000000  \n",
      "total     7.000000                 1.000000  1.000000  28993.000000  \n",
      "mean      0.291667                 0.041667  0.041667   1208.041667  \n",
      "std       0.464306                 0.204124  0.204124    539.638646  \n",
      "stdNorm   1.591905                 4.898979  4.898979      0.446705  \n",
      "\n",
      "[5 rows x 35 columns]\n"
     ]
    }
   ],
   "source": [
    "# Hour Total\n",
    "HourCat['Hour Total'] = HourCat.iloc[0:24,:].sum(axis=1)\n",
    "# Category Total\n",
    "HourCat.loc['total',:] = HourCat.iloc[0:24,:].sum(axis=0)\n",
    "# Category Mean\n",
    "HourCat.loc['mean',:] = HourCat.iloc[0:24,:].mean(axis=0)\n",
    "# Category Standard Deviation\n",
    "HourCat.loc['std',:] = HourCat.iloc[0:24,:].std(axis=0)\n",
    "# Category Standard Deviation/Category Mean\n",
    "HourCat.loc['stdNorm',:] = HourCat.loc['std',:]/HourCat.loc['mean',:]\n",
    "print(HourCat.tail())"
   ]
  },
  {
   "cell_type": "markdown",
   "metadata": {
    "collapsed": false
   },
   "source": [
    "### Select and Arrange Data for Plotting:\n",
    "The required data for plotting is selected from HourCat and stored in PlotData"
   ]
  },
  {
   "cell_type": "code",
   "execution_count": 6,
   "metadata": {
    "collapsed": false
   },
   "outputs": [
    {
     "name": "stderr",
     "output_type": "stream",
     "text": [
      "/home/omar-u64/anaconda3/envs/dato-env/lib/python2.7/site-packages/ipykernel/__main__.py:5: FutureWarning: sort(columns=....) is deprecated, use sort_values(by=.....)\n",
      "/home/omar-u64/anaconda3/envs/dato-env/lib/python2.7/site-packages/ipykernel/__main__.py:11: FutureWarning: sort(columns=....) is deprecated, use sort_values(by=.....)\n"
     ]
    }
   ],
   "source": [
    "# Take All\n",
    "plotData = HourCat\n",
    "\n",
    "# Sort by category total, largest first\n",
    "plotData = plotData.T.sort(columns='total',ascending = 0).T\n",
    "\n",
    "# Select most frequent 9 categories\n",
    "plotData = plotData.iloc[:,:9]\n",
    "\n",
    "# Sort by category total, smallest first\n",
    "plotData = plotData.T.sort(columns='total',ascending = 1).T\n",
    "\n",
    "# Drop data not being plotted and re-assign total column \n",
    "plotData = plotData.iloc[:-4,:]\n",
    "total = plotData['Hour Total']\n",
    "plotData = plotData.drop('Hour Total', 1)\n",
    "plotData = plotData.drop('OTHER OFFENSES', 1)"
   ]
  },
  {
   "cell_type": "markdown",
   "metadata": {
    "collapsed": false
   },
   "source": [
    "### Plot Data:\n",
    "The total incident frequencies are plotted as a function of time of day, given by the thin black line.  The categorical composition of this black line is also shown below using a stack plot."
   ]
  },
  {
   "cell_type": "code",
   "execution_count": 7,
   "metadata": {
    "collapsed": false
   },
   "outputs": [
    {
     "name": "stderr",
     "output_type": "stream",
     "text": [
      "/home/omar-u64/anaconda3/envs/dato-env/lib/python2.7/site-packages/matplotlib/cbook.py:136: MatplotlibDeprecationWarning: The set_color_cycle attribute was deprecated in version 1.5. Use set_prop_cycle instead.\n",
      "  warnings.warn(message, mplDeprecation, stacklevel=1)\n"
     ]
    },
    {
     "data": {
      "text/plain": [
       "[<matplotlib.collections.PolyCollection at 0x7fe8464e58d0>,\n",
       " <matplotlib.collections.PolyCollection at 0x7fe846393650>,\n",
       " <matplotlib.collections.PolyCollection at 0x7fe846393c10>,\n",
       " <matplotlib.collections.PolyCollection at 0x7fe8463a0210>,\n",
       " <matplotlib.collections.PolyCollection at 0x7fe8463a07d0>,\n",
       " <matplotlib.collections.PolyCollection at 0x7fe8463a0d90>,\n",
       " <matplotlib.collections.PolyCollection at 0x7fe8463aa390>]"
      ]
     },
     "execution_count": 7,
     "metadata": {},
     "output_type": "execute_result"
    },
    {
     "data": {
      "image/png": "[encoded data removed]",
      "text/plain": [
       "<matplotlib.figure.Figure at 0x7fe84ce53610>"
      ]
     },
     "metadata": {},
     "output_type": "display_data"
    }
   ],
   "source": [
    "import matplotlib.pyplot as plt\n",
    "%matplotlib inline\n",
    "\n",
    "# x values\n",
    "index  = np.arange(len(plotData.index))\n",
    "x = index + 0.5\n",
    "\n",
    "# blank for plotting blank sets (workaround hack because legend feature doesn't work for stackplot)\n",
    "blank = []\n",
    "\n",
    "# Define plotting colors\n",
    "colors = ['b','g','r','c','y','m','k']\n",
    "\n",
    "# Plot total\n",
    "plt.plot(x,total,label = 'TOTAL',color = 'k',linewidth = 1)\n",
    "\n",
    "# Label for Other in legend\n",
    "plt.plot(blank,blank,label = 'OTHER',color = 'w',linewidth = 5)\n",
    "\n",
    "# Number of Categories to Plot\n",
    "numCat = len(plotData.columns)\n",
    "\n",
    "# Loop through Each Category and plot it\n",
    "for index in range(0,numCat):\n",
    "    # Initialize y\n",
    "    if index == 0:\n",
    "        y = plotData.iloc[:,index]\n",
    "    else:\n",
    "        # Stack next category onto y\n",
    "        y = np.row_stack((y, plotData.iloc[:,index]))\n",
    "    # label for legend (workaround hack because legend feature doesn't work for stackplot)\n",
    "    plt.plot(blank,blank,label = plotData.columns[numCat-index-1],color = colors[numCat-index-1],linewidth = 5)\n",
    "\n",
    "# Set x axis range    \n",
    "plt.xlim([0.5,23.5])\n",
    "# title and labels\n",
    "plt.xlabel('Time of Day (Hour)')\n",
    "plt.ylabel('Incident Frequency (1/Hour)')\n",
    "plt.title('San Francisco Summer 2014 Incidents\\nIncident Frequency VS Time of Day')\n",
    "# add legend and data\n",
    "plt.legend()\n",
    "plt.legend(bbox_to_anchor=(1.05, 1), loc=2, borderaxespad=0.)\n",
    "# plot stackplot\n",
    "plt.stackplot(x,y, colors = colors)"
   ]
  },
  {
   "cell_type": "markdown",
   "metadata": {
    "collapsed": false
   },
   "source": [
    "### Discussion of the First Plot:\n",
    "The total incident frequency strongly depends on time of day.  The fewest number of incidents are recorded in the early hours of the morning (4-5am).  At this time, incidents in all categories appear to be at their minimum. \n",
    "3 local maximums are also evident on the total number of incidents curve.  These maximums roughly correspond to 12h, 18h and 22h.  Theft incidents are a significant proportion of the total number of incidents.  Theft incidents will be examined in isolation to better understand the root cause of the time of day dependency."
   ]
  },
  {
   "cell_type": "markdown",
   "metadata": {},
   "source": [
    "### Select the Larceny/Theft Data\n",
    "The theft data will be plotted separately to better visualize its dependency on time of day.  "
   ]
  },
  {
   "cell_type": "code",
   "execution_count": 8,
   "metadata": {
    "collapsed": false
   },
   "outputs": [],
   "source": [
    "larceny = sanFran[sanFran['Category'] == 'LARCENY/THEFT']\n",
    "vehicleTheft = sanFran[sanFran['Category'] == 'VEHICLE THEFT']"
   ]
  },
  {
   "cell_type": "markdown",
   "metadata": {},
   "source": [
    "### Sub Categorizing Data:\n",
    "The larceny data will be further divided into four categories, based on its description. The set of larceny descriptions are printed below. From the descriptions below, the larceny data can be divided into three categories, 'Grand Theft', 'Petty Theft' and 'Other'.  The function below, catTheft, will categorize the larceny data in this manner, and store these categories under a new column 'SubCat'.  The vehicleTheft data is its own group, 'Vehicle Theft, and concatenated into the larceny variable."
   ]
  },
  {
   "cell_type": "code",
   "execution_count": 9,
   "metadata": {
    "collapsed": false
   },
   "outputs": [
    {
     "data": {
      "text/plain": [
       "array(['ATTEMPTED AUTO STRIP', 'ATTEMPTED GRAND THEFT FROM PERSON',\n",
       "       'ATTEMPTED PETTY THEFT OF PROPERTY', 'ATTEMPTED SHOPLIFTING',\n",
       "       'ATTEMPTED THEFT FROM A BUILDING',\n",
       "       'ATTEMPTED THEFT FROM LOCKED VEHICLE',\n",
       "       'ATTEMPTED THEFT FROM UNLOCKED VEHICLE',\n",
       "       'ATTEMPTED THEFT OF A BICYCLE',\n",
       "       'EMBEZZLEMENT FROM DEPENDENT OR ELDER ADULT BY CARETAKER',\n",
       "       'GRAND THEFT AUTO STRIP', 'GRAND THEFT BICYCLE',\n",
       "       'GRAND THEFT BY PROSTITUTE', 'GRAND THEFT COIN OPERATED MACHINE',\n",
       "       'GRAND THEFT FROM A BUILDING', 'GRAND THEFT FROM LOCKED AUTO',\n",
       "       'GRAND THEFT FROM PERSON', 'GRAND THEFT FROM UNLOCKED AUTO',\n",
       "       'GRAND THEFT OF PROPERTY', 'GRAND THEFT PICKPOCKET',\n",
       "       'GRAND THEFT PURSESNATCH', 'GRAND THEFT SHOPLIFTING',\n",
       "       'PETTY THEFT AUTO STRIP', 'PETTY THEFT BICYCLE',\n",
       "       'PETTY THEFT COIN OPERATED MACHINE', 'PETTY THEFT FROM A BUILDING',\n",
       "       'PETTY THEFT FROM LOCKED AUTO', 'PETTY THEFT FROM UNLOCKED AUTO',\n",
       "       'PETTY THEFT MOTORCYCLE STRIP', 'PETTY THEFT OF PROPERTY',\n",
       "       'PETTY THEFT SHOPLIFTING', 'PETTY THEFT WITH PRIOR',\n",
       "       'THEFT FROM MERCHANT OR LIBRARY', 'THEFT OF ANIMALS (GENERAL)',\n",
       "       'THEFT OF CHECKS OR CREDIT CARDS',\n",
       "       'THEFT OF COMPUTERS OR CELL PHONES', 'THEFT OF UTILITY SERVICES',\n",
       "       'THEFT OF WRITTEN INSTRUMENT'], dtype=object)"
      ]
     },
     "execution_count": 9,
     "metadata": {},
     "output_type": "execute_result"
    }
   ],
   "source": [
    "np.sort(larceny['Descript'].unique())"
   ]
  },
  {
   "cell_type": "code",
   "execution_count": 10,
   "metadata": {
    "collapsed": true
   },
   "outputs": [],
   "source": [
    "# function to categorize larceny\n",
    "def catTheft(string):\n",
    "    if \"PETTY THEFT\" in string:\n",
    "        return 'Petty Theft'\n",
    "    elif \"GRAND THEFT\" in string:\n",
    "        return 'Grand Theft'\n",
    "    else:\n",
    "        return 'Other'"
   ]
  },
  {
   "cell_type": "code",
   "execution_count": 11,
   "metadata": {
    "collapsed": false
   },
   "outputs": [
    {
     "name": "stderr",
     "output_type": "stream",
     "text": [
      "/home/omar-u64/anaconda3/envs/dato-env/lib/python2.7/site-packages/ipykernel/__main__.py:2: SettingWithCopyWarning: \n",
      "A value is trying to be set on a copy of a slice from a DataFrame.\n",
      "Try using .loc[row_indexer,col_indexer] = value instead\n",
      "\n",
      "See the caveats in the documentation: http://pandas.pydata.org/pandas-docs/stable/indexing.html#indexing-view-versus-copy\n",
      "  from ipykernel import kernelapp as app\n",
      "/home/omar-u64/anaconda3/envs/dato-env/lib/python2.7/site-packages/ipykernel/__main__.py:3: SettingWithCopyWarning: \n",
      "A value is trying to be set on a copy of a slice from a DataFrame.\n",
      "Try using .loc[row_indexer,col_indexer] = value instead\n",
      "\n",
      "See the caveats in the documentation: http://pandas.pydata.org/pandas-docs/stable/indexing.html#indexing-view-versus-copy\n",
      "  app.launch_new_instance()\n"
     ]
    }
   ],
   "source": [
    "# Group and concat.\n",
    "larceny['SubCat'] = larceny['Descript'].apply(catTheft)\n",
    "vehicleTheft['SubCat'] = 'Vehicle Theft'\n",
    "\n",
    "larceny = larceny.append(vehicleTheft)"
   ]
  },
  {
   "cell_type": "markdown",
   "metadata": {
    "collapsed": false
   },
   "source": [
    "### Changing Schema and Populating Table\n",
    "As performed previously, a new schema is implemented, and the table is populated.  This time, the larceny data is grouped by sub-category rather than category.  The populated table is shown below."
   ]
  },
  {
   "cell_type": "code",
   "execution_count": 12,
   "metadata": {
    "collapsed": false
   },
   "outputs": [
    {
     "name": "stdout",
     "output_type": "stream",
     "text": [
      "[ 0  1  2  3  4  5  6  7  8  9 10 11 12 13 14 15 16 17 18 19 20 21 22 23]\n"
     ]
    }
   ],
   "source": [
    "larcenyGroupedHour = larceny.groupby(by='Hour')\n",
    "hour = larceny['Hour'].unique()\n",
    "hour = np.sort(hour)\n",
    "print(hour)"
   ]
  },
  {
   "cell_type": "code",
   "execution_count": 13,
   "metadata": {
    "collapsed": false
   },
   "outputs": [
    {
     "name": "stdout",
     "output_type": "stream",
     "text": [
      "   Grand Theft  Petty Theft  Other  Vehicle Theft  Hour Total\n",
      "0          213          131     10             66         420\n",
      "1          144           81      5             51         281\n",
      "2           96           40      7             36         179\n",
      "3           53           31      4             24         112\n",
      "4           39           24      2             19          84\n",
      "       Grand Theft  Petty Theft  Other  Vehicle Theft  Hour Total\n",
      "20             481          194      6            172         853\n",
      "21             412          173      8            130         723\n",
      "22             383          163     16            161         723\n",
      "23             319          136      7            137         599\n",
      "total         5961         3286    219           1966       11432\n"
     ]
    }
   ],
   "source": [
    "# Initialize hour vs category schema\n",
    "columns = larceny['SubCat'].unique()\n",
    "larcenyHourCat = pandas.DataFrame(index=hour, columns=columns).fillna(0)\n",
    "#print(larcenyHourCat.head())\n",
    "\n",
    "for h,larcenyGroupHour in larcenyGroupedHour:\n",
    "    larcenyGroupedHourCat = larcenyGroupHour.groupby(by = 'SubCat')\n",
    "    for cat, larcenyGroupHourCat in larcenyGroupedHourCat:\n",
    "        larcenyHourCat.loc[h,cat] = len(larcenyGroupHourCat)\n",
    "        \n",
    "larcenyHourCat['Hour Total'] = larcenyHourCat.iloc[0:24,:].sum(axis=1)\n",
    "larcenyHourCat.loc['total',:] = larcenyHourCat.iloc[0:24,:].sum(axis=0)\n",
    "\n",
    "print(larcenyHourCat.head())\n",
    "print(larcenyHourCat.tail())"
   ]
  },
  {
   "cell_type": "markdown",
   "metadata": {},
   "source": [
    "### Select and Arrange Data for Plotting:\n",
    "The required data for plotting are selected and stored in PlotData"
   ]
  },
  {
   "cell_type": "code",
   "execution_count": 14,
   "metadata": {
    "collapsed": false
   },
   "outputs": [
    {
     "name": "stdout",
     "output_type": "stream",
     "text": [
      "    Hour Total  Grand Theft  Petty Theft  Vehicle Theft  Other\n",
      "0          420          213          131             66     10\n",
      "1          281          144           81             51      5\n",
      "2          179           96           40             36      7\n",
      "3          112           53           31             24      4\n",
      "4           84           39           24             19      2\n",
      "5           85           38           28             19      0\n",
      "6          124           55           34             33      2\n",
      "7          186           94           54             33      5\n",
      "8          306          136           90             71      9\n",
      "9          359          165          120             66      8\n",
      "10         412          198          151             52     11\n",
      "11         461          235          166             44     16\n",
      "12         597          296          195             89     17\n",
      "13         501          262          166             61     12\n",
      "14         537          283          181             60     13\n",
      "15         598          306          197             85     10\n",
      "16         644          328          204            100     12\n",
      "17         790          382          258            136     14\n",
      "18         995          556          251            177     11\n",
      "19         863          487          218            144     14\n",
      "20         853          481          194            172      6\n",
      "21         723          412          173            130      8\n",
      "22         723          383          163            161     16\n",
      "23         599          319          136            137      7\n"
     ]
    },
    {
     "name": "stderr",
     "output_type": "stream",
     "text": [
      "/home/omar-u64/anaconda3/envs/dato-env/lib/python2.7/site-packages/ipykernel/__main__.py:4: FutureWarning: sort(columns=....) is deprecated, use sort_values(by=.....)\n"
     ]
    }
   ],
   "source": [
    "# Select all data\n",
    "plotData = larcenyHourCat\n",
    "# Sort plotData descending \n",
    "plotData = plotData.T.sort(columns='total',ascending=0).T\n",
    "# Drop Sub-Cat Total Column\n",
    "plotData = plotData.iloc[:-1,:]\n",
    "\n",
    "print(plotData)"
   ]
  },
  {
   "cell_type": "markdown",
   "metadata": {},
   "source": [
    "### Plot Larceny Data:\n",
    "The total number of larceny incidents are plotted as a function of time of day, given by the thin black line.  Additionally, the total number of larceny incidents for each sub-category as a function of time of day are also plotted."
   ]
  },
  {
   "cell_type": "code",
   "execution_count": 15,
   "metadata": {
    "collapsed": false
   },
   "outputs": [
    {
     "data": {
      "text/plain": [
       "<matplotlib.legend.Legend at 0x7fe844883fd0>"
      ]
     },
     "execution_count": 15,
     "metadata": {},
     "output_type": "execute_result"
    },
    {
     "data": {
      "image/png": "[encoded data removed]",
      "text/plain": [
       "<matplotlib.figure.Figure at 0x7fe846434310>"
      ]
     },
     "metadata": {},
     "output_type": "display_data"
    }
   ],
   "source": [
    "x_axis = plotData.index\n",
    "index  = np.arange(len(x_axis))\n",
    "x = index\n",
    "plt.clf()\n",
    "\n",
    "colors = ['k','r','b','g','y']\n",
    "\n",
    "for index in range(0,5):\n",
    "\n",
    "    plt.plot(x,plotData.iloc[:,index],label = plotData.columns[index],color = colors[index],linewidth = 1)\n",
    "\n",
    "    \n",
    "# Set x axis range    \n",
    "plt.xlim([0.5,23.5])\n",
    "# title and labels\n",
    "plt.xlabel('Time of Day (Hour)')\n",
    "plt.ylabel('Larceny Incident Frequency (1/Hour)')\n",
    "plt.title('San Francisco Summer 2014 Larceny Incidents\\nLarceny Incident Frequency VS Time of Day')\n",
    "# add legend and data\n",
    "plt.legend()\n",
    "plt.legend(bbox_to_anchor=(1.05, 1), loc=2, borderaxespad=0.)"
   ]
  },
  {
   "cell_type": "markdown",
   "metadata": {
    "collapsed": true
   },
   "source": [
    "### Discussion of the Second Plot:\n",
    "The total larceny incident frequencies have two local maximums; the first at around 12h, and the second at around 18h.  The time at which these peaks occur closely lines up with that when people leave from work.  This will be examined further by comparing weekend larceny and weekday larceny."
   ]
  },
  {
   "cell_type": "markdown",
   "metadata": {},
   "source": [
    "### Comparing Weekend VS Weekday Data:\n",
    "The procedure to sub-divide larceny data into sub-categories, will be applied again, but instead the subcategory will be 'Workday'.  The data will be categorized as either 'Weekend' or 'Weekday.  The new schema structure is initialized, the data is grouped, and sub-grouped, and the new array populated and printed out below.  "
   ]
  },
  {
   "cell_type": "code",
   "execution_count": 16,
   "metadata": {
    "collapsed": false
   },
   "outputs": [],
   "source": [
    "def CatWorkWeek(string):\n",
    "    if 'Saturday' in string:\n",
    "        return 'Weekend'\n",
    "    elif 'Sunday' in string:\n",
    "        return 'Weekend'\n",
    "    else:\n",
    "        return 'Weekday'"
   ]
  },
  {
   "cell_type": "code",
   "execution_count": 17,
   "metadata": {
    "collapsed": false
   },
   "outputs": [],
   "source": [
    "larceny['Workday'] = larceny['DayOfWeek'].apply(CatWorkWeek)"
   ]
  },
  {
   "cell_type": "code",
   "execution_count": 18,
   "metadata": {
    "collapsed": false
   },
   "outputs": [
    {
     "name": "stdout",
     "output_type": "stream",
     "text": [
      "[ 0  1  2  3  4  5  6  7  8  9 10 11 12 13 14 15 16 17 18 19 20 21 22 23]\n"
     ]
    }
   ],
   "source": [
    "larcenyGroupedHour = larceny.groupby(by='Hour')\n",
    "hour = larceny['Hour'].unique()\n",
    "hour = np.sort(hour)\n",
    "print(hour)"
   ]
  },
  {
   "cell_type": "code",
   "execution_count": 19,
   "metadata": {
    "collapsed": false
   },
   "outputs": [
    {
     "name": "stdout",
     "output_type": "stream",
     "text": [
      "   Weekend  Weekday  Hour Total\n",
      "0      179      241         420\n",
      "1      140      141         281\n",
      "2       85       94         179\n",
      "3       51       61         112\n",
      "4       29       55          84\n",
      "       Weekend  Weekday  Hour Total\n",
      "20         241      612         853\n",
      "21         238      485         723\n",
      "22         245      478         723\n",
      "23         216      383         599\n",
      "total     3683     7749       11432\n"
     ]
    }
   ],
   "source": [
    "# Initialize hour vs category schema\n",
    "columns = larceny['Workday'].unique()\n",
    "larcenyHourCat = pandas.DataFrame(index=hour, columns=columns).fillna(0)\n",
    "#print(larcenyHourCat.head())\n",
    "\n",
    "for h,larcenyGroupHour in larcenyGroupedHour:\n",
    "    larcenyGroupedHourCat = larcenyGroupHour.groupby(by = 'Workday')\n",
    "    for cat, larcenyGroupHourCat in larcenyGroupedHourCat:\n",
    "        larcenyHourCat.loc[h,cat] = len(larcenyGroupHourCat)\n",
    "        \n",
    "larcenyHourCat['Hour Total'] = larcenyHourCat.iloc[0:24,:].sum(axis=1)\n",
    "larcenyHourCat.loc['total',:] = larcenyHourCat.iloc[0:24,:].sum(axis=0)\n",
    "\n",
    "print(larcenyHourCat.head())\n",
    "print(larcenyHourCat.tail())"
   ]
  },
  {
   "cell_type": "markdown",
   "metadata": {},
   "source": [
    "# Plotting the Data:\n",
    "The required data for plotting is selected.  The total, weekday and weekend incident frequencies are plotted as a function of time of day."
   ]
  },
  {
   "cell_type": "code",
   "execution_count": 20,
   "metadata": {
    "collapsed": false
   },
   "outputs": [
    {
     "name": "stdout",
     "output_type": "stream",
     "text": [
      "    Hour Total  Weekday  Weekend\n",
      "0          420      241      179\n",
      "1          281      141      140\n",
      "2          179       94       85\n",
      "3          112       61       51\n",
      "4           84       55       29\n",
      "5           85       63       22\n",
      "6          124       96       28\n",
      "7          186      145       41\n",
      "8          306      236       70\n",
      "9          359      266       93\n",
      "10         412      278      134\n",
      "11         461      315      146\n",
      "12         597      398      199\n",
      "13         501      337      164\n",
      "14         537      361      176\n",
      "15         598      369      229\n",
      "16         644      418      226\n",
      "17         790      540      250\n",
      "18         995      731      264\n",
      "19         863      646      217\n",
      "20         853      612      241\n",
      "21         723      485      238\n",
      "22         723      478      245\n",
      "23         599      383      216\n"
     ]
    },
    {
     "name": "stderr",
     "output_type": "stream",
     "text": [
      "/home/omar-u64/anaconda3/envs/dato-env/lib/python2.7/site-packages/ipykernel/__main__.py:4: FutureWarning: sort(columns=....) is deprecated, use sort_values(by=.....)\n"
     ]
    }
   ],
   "source": [
    "# Select all data\n",
    "plotData = larcenyHourCat\n",
    "# Sort plotData descending \n",
    "plotData = plotData.T.sort(columns='total',ascending=0).T\n",
    "# Drop Sub-Cat Total Column\n",
    "plotData = plotData.iloc[:-1,:]\n",
    "\n",
    "print(plotData)"
   ]
  },
  {
   "cell_type": "code",
   "execution_count": 21,
   "metadata": {
    "collapsed": false
   },
   "outputs": [
    {
     "data": {
      "text/plain": [
       "<matplotlib.legend.Legend at 0x7fe844a01710>"
      ]
     },
     "execution_count": 21,
     "metadata": {},
     "output_type": "execute_result"
    },
    {
     "data": {
      "image/png": "[encoded data removed]",
      "text/plain": [
       "<matplotlib.figure.Figure at 0x7fe8447fe710>"
      ]
     },
     "metadata": {},
     "output_type": "display_data"
    }
   ],
   "source": [
    "x_axis = plotData.index\n",
    "index  = np.arange(len(x_axis))\n",
    "x = index\n",
    "plt.clf()\n",
    "\n",
    "colors = ['k','r','b','g','y']\n",
    "\n",
    "for index in range(0,3):\n",
    "\n",
    "    plt.plot(x,plotData.iloc[:,index],label = plotData.columns[index],color = colors[index],linewidth = 1)\n",
    "\n",
    "    \n",
    "# Set x axis range    \n",
    "plt.xlim([0.5,23.5])\n",
    "# title and labels\n",
    "plt.xlabel('Time of Day (Hour)')\n",
    "plt.ylabel('Larceny Incident Frequency (1/Hour)')\n",
    "plt.title('San Francisco Summer 2014 Larceny Incidents\\nLarceny Incident Frequency VS Time of Day')\n",
    "# add legend and data\n",
    "plt.legend()\n",
    "plt.legend(bbox_to_anchor=(1.05, 1), loc=2, borderaxespad=0.)"
   ]
  },
  {
   "cell_type": "markdown",
   "metadata": {},
   "source": [
    "### Discussion of the Third Plot:\n",
    "This plot clearly shows that the 18h maximum is owing to the weekday data.  This plot provides strong evidence that the 18h peak is somehow related to when most people leave their workplace.  \n",
    "\n",
    "This spike in larceny reports immediately after people leave work could be attributed to the fact that people only realize and report an incident when they observe the incident.  All larceny that occurs while the victim is at work will only be observed and reported once they leave their workplace, hence the spike immediately after work.  This is just a theory, and no data has been shown to support it.  An alternate theory is that these times of day are when it's most convenient for a victim to report crimes. Another alternate theory might be that the workers are leaving their jobs and committing larceny on their way home.  More analysis is required before one of these theories can be favored over the others."
   ]
  },
  {
   "cell_type": "markdown",
   "metadata": {},
   "source": [
    "### Conclusion:\n",
    "The number of incident reports recorded depend heavily on time of day.  The peak of total incident reports recorded occurs at 6 PM.  A majority of these reports are owing to larceny incidents.  Larceny reports are frequently recorded immediately after a majority of the population have left work, 6pm on weekdays.  More analysis is required to determine why that is."
   ]
  }
 ],
 "metadata": {
  "kernelspec": {
   "display_name": "Python 2",
   "language": "python",
   "name": "python2"
  },
  "language_info": {
   "codemirror_mode": {
    "name": "ipython",
    "version": 2
   },
   "file_extension": ".py",
   "mimetype": "text/x-python",
   "name": "python",
   "nbconvert_exporter": "python",
   "pygments_lexer": "ipython2",
   "version": "2.7.10"
  }
 },
 "nbformat": 4,
 "nbformat_minor": 0
}
